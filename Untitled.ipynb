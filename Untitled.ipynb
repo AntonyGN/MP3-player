{
 "cells": [
  {
   "cell_type": "code",
   "execution_count": 1,
   "id": "d4d9c403",
   "metadata": {},
   "outputs": [
    {
     "name": "stdout",
     "output_type": "stream",
     "text": [
      "Requirement already satisfied: PySimpleGUI in /opt/anaconda3/lib/python3.9/site-packages (4.60.4)\n",
      "Note: you may need to restart the kernel to use updated packages.\n"
     ]
    }
   ],
   "source": [
    "pip install PySimpleGUI"
   ]
  },
  {
   "cell_type": "code",
   "execution_count": 2,
   "id": "bda08390",
   "metadata": {},
   "outputs": [
    {
     "name": "stdout",
     "output_type": "stream",
     "text": [
      "Requirement already satisfied: python-vlc in /opt/anaconda3/lib/python3.9/site-packages (3.0.18121)\n",
      "Note: you may need to restart the kernel to use updated packages.\n"
     ]
    }
   ],
   "source": [
    "pip install python-vlc"
   ]
  },
  {
   "cell_type": "code",
   "execution_count": 1,
   "id": "9c146683",
   "metadata": {},
   "outputs": [],
   "source": [
    "# Import libraries\n",
    "import PySimpleGUI as sg\n",
    "import vlc"
   ]
  },
  {
   "cell_type": "code",
   "execution_count": null,
   "id": "c0946bbc",
   "metadata": {},
   "outputs": [],
   "source": [
    "controls = [sg.Button(\"Play\"), sg.Button(\"Pause\"), sg.Button(\"Stop\")]\n",
    "layout = [[sg.FileBrowse(key=\"-MP3-\", enable_events=True)], controls]\n",
    "player = None\n",
    "\n",
    "# Create window\n",
    "window = sg.Window(\"MP3 Player\", layout)\n",
    "\n",
    "# Create an event loop\n",
    "while True:\n",
    "    event, values = window.read()\n",
    "    # End program if user closes window or presses the OK button\n",
    "    if event == \"Ok\" or event == sg.WIN_CLOSED:\n",
    "        break\n",
    "\n",
    "    if event == \"-MP3-\":\n",
    "        player = vlc.MediaPlayer(values[\"-MP3-\"])\n",
    "\n",
    "    if event == \"Play\" and player is not None:\n",
    "        player.play()\n",
    "\n",
    "    if event == \"Pause\" and player is not None:\n",
    "        player.pause()\n",
    "\n",
    "    if event == \"Stop\" and player is not None:\n",
    "        player.stop()\n",
    "\n",
    "        window.close()\n"
   ]
  },
  {
   "cell_type": "code",
   "execution_count": null,
   "id": "c020c31b",
   "metadata": {},
   "outputs": [],
   "source": []
  }
 ],
 "metadata": {
  "kernelspec": {
   "display_name": "Python 3 (ipykernel)",
   "language": "python",
   "name": "python3"
  },
  "language_info": {
   "codemirror_mode": {
    "name": "ipython",
    "version": 3
   },
   "file_extension": ".py",
   "mimetype": "text/x-python",
   "name": "python",
   "nbconvert_exporter": "python",
   "pygments_lexer": "ipython3",
   "version": "3.9.13"
  }
 },
 "nbformat": 4,
 "nbformat_minor": 5
}
